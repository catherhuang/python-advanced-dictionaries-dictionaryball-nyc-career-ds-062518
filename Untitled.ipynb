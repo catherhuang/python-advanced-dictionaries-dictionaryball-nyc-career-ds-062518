{
 "cells": [
  {
   "cell_type": "code",
   "execution_count": 1,
   "metadata": {},
   "outputs": [],
   "source": [
    "import dictionaryball"
   ]
  },
  {
   "cell_type": "code",
   "execution_count": 2,
   "metadata": {},
   "outputs": [
    {
     "ename": "SyntaxError",
     "evalue": "invalid syntax (<ipython-input-2-96e072d7b275>, line 1)",
     "output_type": "error",
     "traceback": [
      "\u001b[0;36m  File \u001b[0;32m\"<ipython-input-2-96e072d7b275>\"\u001b[0;36m, line \u001b[0;32m1\u001b[0m\n\u001b[0;31m    dictionaryball.\u001b[0m\n\u001b[0m                   ^\u001b[0m\n\u001b[0;31mSyntaxError\u001b[0m\u001b[0;31m:\u001b[0m invalid syntax\n"
     ]
    }
   ],
   "source": [
    "dictionaryball.\n",
    "#press 'tab' to access all the formulas "
   ]
  },
  {
   "cell_type": "code",
   "execution_count": 3,
   "metadata": {
    "scrolled": true
   },
   "outputs": [
    {
     "ename": "NameError",
     "evalue": "name 'home' is not defined",
     "output_type": "error",
     "traceback": [
      "\u001b[0;31m---------------------------------------------------------------------------\u001b[0m",
      "\u001b[0;31mNameError\u001b[0m                                 Traceback (most recent call last)",
      "\u001b[0;32m<ipython-input-3-d7151c411d09>\u001b[0m in \u001b[0;36m<module>\u001b[0;34m()\u001b[0m\n\u001b[0;32m----> 1\u001b[0;31m \u001b[0mgame_dictionary\u001b[0m \u001b[0;34m=\u001b[0m \u001b[0;34m{\u001b[0m\u001b[0;34m'home'\u001b[0m\u001b[0;34m:\u001b[0m \u001b[0mhome\u001b[0m\u001b[0;34m,\u001b[0m \u001b[0;34m'away'\u001b[0m\u001b[0;34m:\u001b[0m \u001b[0maway\u001b[0m\u001b[0;34m}\u001b[0m\u001b[0;34m\u001b[0m\u001b[0m\n\u001b[0m\u001b[1;32m      2\u001b[0m \u001b[0mgame_dictionary\u001b[0m\u001b[0;34m\u001b[0m\u001b[0m\n",
      "\u001b[0;31mNameError\u001b[0m: name 'home' is not defined"
     ]
    }
   ],
   "source": [
    "game_dictionary = {'home': home, 'away': away}\n",
    "game_dictionary"
   ]
  },
  {
   "cell_type": "code",
   "execution_count": 4,
   "metadata": {},
   "outputs": [
    {
     "ename": "NameError",
     "evalue": "name 'teamname' is not defined",
     "output_type": "error",
     "traceback": [
      "\u001b[0;31m---------------------------------------------------------------------------\u001b[0m",
      "\u001b[0;31mNameError\u001b[0m                                 Traceback (most recent call last)",
      "\u001b[0;32m<ipython-input-4-76a8d3f6a898>\u001b[0m in \u001b[0;36m<module>\u001b[0;34m()\u001b[0m\n\u001b[0;32m----> 1\u001b[0;31m \u001b[0mhome\u001b[0m \u001b[0;34m=\u001b[0m \u001b[0;34m{\u001b[0m\u001b[0;34m'teamname'\u001b[0m\u001b[0;34m:\u001b[0m\u001b[0mteamname\u001b[0m\u001b[0;34m[\u001b[0m\u001b[0;36m0\u001b[0m\u001b[0;34m]\u001b[0m\u001b[0;34m,\u001b[0m \u001b[0;34m'colors'\u001b[0m\u001b[0;34m:\u001b[0m\u001b[0mcolors\u001b[0m\u001b[0;34m[\u001b[0m\u001b[0;36m0\u001b[0m\u001b[0;34m]\u001b[0m \u001b[0;34m,\u001b[0m\u001b[0;34m'players'\u001b[0m\u001b[0;34m:\u001b[0m\u001b[0mplayers\u001b[0m\u001b[0;34m[\u001b[0m\u001b[0;36m0\u001b[0m\u001b[0;34m]\u001b[0m \u001b[0;34m}\u001b[0m\u001b[0;34m\u001b[0m\u001b[0m\n\u001b[0m",
      "\u001b[0;31mNameError\u001b[0m: name 'teamname' is not defined"
     ]
    }
   ],
   "source": [
    "home = {'teamname':teamname[0], 'colors':colors[0] ,'players':players[0] }"
   ]
  },
  {
   "cell_type": "code",
   "execution_count": 5,
   "metadata": {},
   "outputs": [
    {
     "ename": "NameError",
     "evalue": "name 'teamname' is not defined",
     "output_type": "error",
     "traceback": [
      "\u001b[0;31m---------------------------------------------------------------------------\u001b[0m",
      "\u001b[0;31mNameError\u001b[0m                                 Traceback (most recent call last)",
      "\u001b[0;32m<ipython-input-5-a57638b6b354>\u001b[0m in \u001b[0;36m<module>\u001b[0;34m()\u001b[0m\n\u001b[0;32m----> 1\u001b[0;31m \u001b[0maway\u001b[0m \u001b[0;34m=\u001b[0m \u001b[0;34m{\u001b[0m\u001b[0;34m'teamname'\u001b[0m\u001b[0;34m:\u001b[0m\u001b[0mteamname\u001b[0m\u001b[0;34m[\u001b[0m\u001b[0;36m1\u001b[0m\u001b[0;34m]\u001b[0m\u001b[0;34m,\u001b[0m \u001b[0;34m'colors'\u001b[0m\u001b[0;34m:\u001b[0m\u001b[0mcolors\u001b[0m\u001b[0;34m[\u001b[0m\u001b[0;36m1\u001b[0m\u001b[0;34m]\u001b[0m \u001b[0;34m}\u001b[0m\u001b[0;34m\u001b[0m\u001b[0m\n\u001b[0m\u001b[1;32m      2\u001b[0m \u001b[0maway\u001b[0m\u001b[0;34m\u001b[0m\u001b[0m\n",
      "\u001b[0;31mNameError\u001b[0m: name 'teamname' is not defined"
     ]
    }
   ],
   "source": [
    "away = {'teamname':teamname[1], 'colors':colors[1] }\n",
    "away"
   ]
  },
  {
   "cell_type": "code",
   "execution_count": 6,
   "metadata": {
    "scrolled": true
   },
   "outputs": [
    {
     "data": {
      "text/plain": [
       "'Brooklyn Nets'"
      ]
     },
     "execution_count": 6,
     "metadata": {},
     "output_type": "execute_result"
    }
   ],
   "source": [
    "teamname = ['Brooklyn Nets', 'Charlotte Hornets']\n",
    "teamname[0]"
   ]
  },
  {
   "cell_type": "code",
   "execution_count": 7,
   "metadata": {},
   "outputs": [
    {
     "data": {
      "text/plain": [
       "'Black, White'"
      ]
     },
     "execution_count": 7,
     "metadata": {},
     "output_type": "execute_result"
    }
   ],
   "source": [
    "colors = ['Black, White','Turquoise', 'Purple']\n",
    "colors[0]"
   ]
  },
  {
   "cell_type": "code",
   "execution_count": 8,
   "metadata": {},
   "outputs": [],
   "source": [
    "#stats for home team players \n",
    "Alan_Anderson_stats = {'number': 0,'shoe':16, 'points':22, 'rebounds':12, 'assists':12, 'steals':3, 'blocks':1, 'slam_dunks':1}\n",
    "Reggie_Evans_stats={'number':30,'shoe':14, 'points':12, 'rebounds':12, 'assists':12, 'steals':12, 'blocks':12, 'slam_dunks':7}\n",
    "Brook_Lopez_stats={'number':11,'shoe':17, 'points':17, 'rebounds':19, 'assists':10, 'steals':3, 'blocks':1, 'slam_dunks':5}\n",
    "Mason_Plumlee_stats={'number':1,'shoe':19, 'points':26, 'rebounds':12, 'assists':16, 'steals':3, 'blocks':8, 'slam_dunks':5}\n",
    "Jason_Terry_stats={'number':31,'shoe':15, 'points':19, 'rebounds':2, 'assists':2, 'steals':4, 'blocks':11, 'slam_dunks':4}\n",
    "#stats for away team players\n",
    "Jeff_Adrien_stats={'number':4,'shoe':18, 'points':10, 'rebounds':1, 'assists':1, 'steals':2, 'blocks':7, 'slam_dunks':2}\n",
    "Bismak_Biyombo_stats={'number':0,'shoe':16, 'points':12, 'rebounds':4, 'assists':7, 'steals':7, 'blocks':15, 'slam_dunks':10}\n",
    "DeSagna_Diop_stats={'number':2,'shoe':14, 'points':24, 'rebounds':12, 'assists':12, 'steals':4, 'blocks':5, 'slam_dunks':5}\n",
    "Ben_Gordon_stats={'number':8,'shoe':15, 'points':33, 'rebounds':3, 'assists':2, 'steals':1, 'blocks':1, 'slam_dunks':0}\n",
    "Brendan_Haywood_stats={'number':33,'shoe':15, 'points':6, 'rebounds':12, 'assists':12, 'steals':22, 'blocks':5, 'slam_dunks':12}"
   ]
  },
  {
   "cell_type": "code",
   "execution_count": 9,
   "metadata": {},
   "outputs": [
    {
     "data": {
      "text/plain": [
       "{'Alan Anderson': {'number': 0,\n",
       "  'shoe': 16,\n",
       "  'points': 22,\n",
       "  'rebounds': 12,\n",
       "  'assists': 12,\n",
       "  'steals': 3,\n",
       "  'blocks': 1,\n",
       "  'slam_dunks': 1},\n",
       " 'Reggie Evans': {'number': 30,\n",
       "  'shoe': 14,\n",
       "  'points': 12,\n",
       "  'rebounds': 12,\n",
       "  'assists': 12,\n",
       "  'steals': 12,\n",
       "  'blocks': 12,\n",
       "  'slam_dunks': 7},\n",
       " 'Brook Lopez': {'number': 11,\n",
       "  'shoe': 17,\n",
       "  'points': 17,\n",
       "  'rebounds': 19,\n",
       "  'assists': 10,\n",
       "  'steals': 3,\n",
       "  'blocks': 1,\n",
       "  'slam_dunks': 5},\n",
       " 'Mason Plumlee': {'number': 1,\n",
       "  'shoe': 19,\n",
       "  'points': 26,\n",
       "  'rebounds': 12,\n",
       "  'assists': 16,\n",
       "  'steals': 3,\n",
       "  'blocks': 8,\n",
       "  'slam_dunks': 5},\n",
       " 'Jason Terry': {'number': 31,\n",
       "  'shoe': 15,\n",
       "  'points': 19,\n",
       "  'rebounds': 2,\n",
       "  'assists': 2,\n",
       "  'steals': 4,\n",
       "  'blocks': 11,\n",
       "  'slam_dunks': 4},\n",
       " 'Jeff Adrien': {'number': 4,\n",
       "  'shoe': 18,\n",
       "  'points': 10,\n",
       "  'rebounds': 1,\n",
       "  'assists': 1,\n",
       "  'steals': 2,\n",
       "  'blocks': 7,\n",
       "  'slam_dunks': 2},\n",
       " 'Bismak Biyombo': {'number': 0,\n",
       "  'shoe': 16,\n",
       "  'points': 12,\n",
       "  'rebounds': 4,\n",
       "  'assists': 7,\n",
       "  'steals': 7,\n",
       "  'blocks': 15,\n",
       "  'slam_dunks': 10},\n",
       " 'DeSagna Diop': {'number': 2,\n",
       "  'shoe': 14,\n",
       "  'points': 24,\n",
       "  'rebounds': 12,\n",
       "  'assists': 12,\n",
       "  'steals': 4,\n",
       "  'blocks': 5,\n",
       "  'slam_dunks': 5},\n",
       " 'Ben Gordon': {'number': 8,\n",
       "  'shoe': 15,\n",
       "  'points': 33,\n",
       "  'rebounds': 3,\n",
       "  'assists': 2,\n",
       "  'steals': 1,\n",
       "  'blocks': 1,\n",
       "  'slam_dunks': 0},\n",
       " 'Brendan Haywood': {'number': 33,\n",
       "  'shoe': 15,\n",
       "  'points': 6,\n",
       "  'rebounds': 12,\n",
       "  'assists': 12,\n",
       "  'steals': 22,\n",
       "  'blocks': 5,\n",
       "  'slam_dunks': 12}}"
      ]
     },
     "execution_count": 9,
     "metadata": {},
     "output_type": "execute_result"
    }
   ],
   "source": [
    "#The players key points to a dictionary of players whose names (as strings) are the keys to a dictionary containing their stats. The values for each player's names and their stats can be found in the table below. The stats keys should be formatted like this:\n",
    "players={}\n",
    "players ['Alan Anderson']=Alan_Anderson_stats\n",
    "players ['Reggie Evans']=Reggie_Evans_stats\n",
    "players ['Brook Lopez']=Brook_Lopez_stats\n",
    "players ['Mason Plumlee'] =Mason_Plumlee_stats\n",
    "players ['Jason Terry']=Jason_Terry_stats\n",
    "players ['Jeff Adrien']=Jeff_Adrien_stats\n",
    "players ['Bismak Biyombo'] = Bismak_Biyombo_stats\n",
    "players ['DeSagna Diop']=DeSagna_Diop_stats\n",
    "players ['Ben Gordon']=Ben_Gordon_stats\n",
    "players ['Brendan Haywood']=Brendan_Haywood_stats\n",
    "players"
   ]
  },
  {
   "cell_type": "code",
   "execution_count": null,
   "metadata": {},
   "outputs": [],
   "source": []
  },
  {
   "cell_type": "code",
   "execution_count": null,
   "metadata": {},
   "outputs": [],
   "source": []
  },
  {
   "cell_type": "code",
   "execution_count": null,
   "metadata": {},
   "outputs": [],
   "source": []
  }
 ],
 "metadata": {
  "kernelspec": {
   "display_name": "Python 3",
   "language": "python",
   "name": "python3"
  },
  "language_info": {
   "codemirror_mode": {
    "name": "ipython",
    "version": 3
   },
   "file_extension": ".py",
   "mimetype": "text/x-python",
   "name": "python",
   "nbconvert_exporter": "python",
   "pygments_lexer": "ipython3",
   "version": "3.6.5"
  }
 },
 "nbformat": 4,
 "nbformat_minor": 2
}
