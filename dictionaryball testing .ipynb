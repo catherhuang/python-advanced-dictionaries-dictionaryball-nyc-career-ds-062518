{
 "cells": [
  {
   "cell_type": "code",
   "execution_count": 485,
   "metadata": {},
   "outputs": [],
   "source": [
    "game_dictionary = {\n",
    "'home':{\n",
    "    'team_name':'Brooklyn Nets',\n",
    "    'colors': ['Black', 'White'],\n",
    "    'players':{\n",
    "        'Alan Anderson':{'number': 0,'shoe':16, 'points':22, 'rebounds':12, 'assists':12, 'steals':3, 'blocks':1, 'slam_dunks':1},\n",
    "        'Reggie Evans':{'number':30,'shoe':14, 'points':12, 'rebounds':12, 'assists':12, 'steals':12, 'blocks':12, 'slam_dunks':7},\n",
    "        'Brook Lopez':{'number':11,'shoe':17, 'points':17, 'rebounds':19, 'assists':10, 'steals':3, 'blocks':1, 'slam_dunks':5},\n",
    "        'Mason Plumlee':{'number':1,'shoe':19, 'points':26, 'rebounds':12, 'assists':6, 'steals':3, 'blocks':8, 'slam_dunks':5},\n",
    "        'Jason Terry':{'number':31,'shoe':15, 'points':19, 'rebounds':2, 'assists':2, 'steals':4, 'blocks':11, 'slam_dunks':4}}},\n",
    "'away':{\n",
    "    'team_name':'Charlotte Hornets',\n",
    "    'colors': ['Turquoise, Purple'],\n",
    "    'players':{\n",
    "        'Jeff Adrien':{'number':4,'shoe':18, 'points':10, 'rebounds':1, 'assists':1, 'steals':2, 'blocks':7, 'slam_dunks':2},\n",
    "        'Bismak Biyombo':{'number':0,'shoe':16, 'points':12, 'rebounds':4, 'assists':7, 'steals':7, 'blocks':15, 'slam_dunks':10},\n",
    "        'DeSagna Diop':{'number':2,'shoe':14, 'points':24, 'rebounds':12, 'assists':12, 'steals':4, 'blocks':5, 'slam_dunks':5},\n",
    "        'Ben Gordon':{'number':8,'shoe':15, 'points':33, 'rebounds':3, 'assists':2, 'steals':1, 'blocks':1, 'slam_dunks':0},\n",
    "        'Brendan Haywood':{'number':33,'shoe':15, 'points':6, 'rebounds':12, 'assists':12, 'steals':22, 'blocks':5, 'slam_dunks':12}}}}\n",
    "\n",
    "def game_dict():\n",
    "    return game_dictionary\n"
   ]
  },
  {
   "cell_type": "code",
   "execution_count": 289,
   "metadata": {},
   "outputs": [],
   "source": [
    "import dictionaryball"
   ]
  },
  {
   "cell_type": "code",
   "execution_count": 470,
   "metadata": {},
   "outputs": [
    {
     "data": {
      "text/plain": [
       "['Brooklyn Nets', 'Charlotte Hornets']"
      ]
     },
     "execution_count": 470,
     "metadata": {},
     "output_type": "execute_result"
    }
   ],
   "source": [
    "def num_points_scored(player):\n",
    "    for location, team_stats in game_dict().items(): \n",
    "        if player in team_stats['players'].keys():\n",
    "            return team_stats['players'][player]['points']\n",
    "\n",
    "def shoe_size(player):\n",
    "    for location, team_stats in game_dict().items(): \n",
    "        if player in team_stats['players'].keys():\n",
    "            return team_stats['players'][player]['shoe']\n",
    "\n",
    "def player_stats(player):\n",
    "    for location, team_stats in game_dict().items():\n",
    "        if player in team_stats['players'].keys():\n",
    "            return team_stats['players'][player]\n",
    "\n",
    "def team_colors(team_name):\n",
    "    for location, team_stats in game_dict().items():\n",
    "        if team_name in team_stats['team_name']: \n",
    "            return team_stats['colors']\n",
    "\n",
    "def player_numbers(team_name):\n",
    "    for location, team_stats in game_dict().items(): \n",
    "        if team_name == team_stats['team_name']:\n",
    "            return [team_stats['players'][player]['number'] for player in team_stats['players'].keys()]\n",
    "\n",
    "def team_names():\n",
    "    return [team_stats['team_name'] for location, team_stats in game_dict().items()]\n",
    "team_names()"
   ]
  },
  {
   "cell_type": "code",
   "execution_count": 442,
   "metadata": {},
   "outputs": [
    {
     "data": {
      "text/plain": [
       "33"
      ]
     },
     "execution_count": 442,
     "metadata": {},
     "output_type": "execute_result"
    }
   ],
   "source": [
    "def num_points_scored(player):\n",
    "    for location, team_stats in game_dict().items(): \n",
    "        if player in team_stats['players'].keys():\n",
    "            return team_stats['players'][player]['points']\n",
    "num_points_scored('Ben Gordon')"
   ]
  },
  {
   "cell_type": "code",
   "execution_count": 443,
   "metadata": {
    "scrolled": true
   },
   "outputs": [
    {
     "data": {
      "text/plain": [
       "15"
      ]
     },
     "execution_count": 443,
     "metadata": {},
     "output_type": "execute_result"
    }
   ],
   "source": [
    "def shoe_size(player):\n",
    "    for location, team_stats in game_dict().items(): \n",
    "        if player in team_stats['players'].keys():\n",
    "            return team_stats['players'][player]['shoe']\n",
    "shoe_size('Ben Gordon')"
   ]
  },
  {
   "cell_type": "code",
   "execution_count": 486,
   "metadata": {
    "scrolled": true
   },
   "outputs": [
    {
     "data": {
      "text/plain": [
       "{'number': 1,\n",
       " 'shoe': 19,\n",
       " 'points': 26,\n",
       " 'rebounds': 12,\n",
       " 'assists': 6,\n",
       " 'steals': 3,\n",
       " 'blocks': 8,\n",
       " 'slam_dunks': 5}"
      ]
     },
     "execution_count": 486,
     "metadata": {},
     "output_type": "execute_result"
    }
   ],
   "source": [
    "#{'number': 0, 'shoe': 16, 'points': 22, 'rebounds': 12, 'assists': 12, 'steals': 3, 'blocks': 1, 'slam_dunks': 1}\n",
    "def player_stats(player):\n",
    "    for location, team_stats in game_dict().items():\n",
    "        if player in team_stats['players'].keys():\n",
    "            return team_stats['players'][player]\n",
    "player_stats('Mason Plumlee')"
   ]
  },
  {
   "cell_type": "code",
   "execution_count": 464,
   "metadata": {},
   "outputs": [
    {
     "data": {
      "text/plain": [
       "['Black', 'White']"
      ]
     },
     "execution_count": 464,
     "metadata": {},
     "output_type": "execute_result"
    }
   ],
   "source": [
    "def team_colors(team_name):\n",
    "    for location, team_stats in game_dict().items():\n",
    "        if team_name in team_stats['team_name']: \n",
    "            return team_stats['colors']\n",
    "team_colors('Brooklyn Nets')       "
   ]
  },
  {
   "cell_type": "code",
   "execution_count": 474,
   "metadata": {
    "scrolled": true
   },
   "outputs": [
    {
     "data": {
      "text/plain": [
       "'Brooklyn Nets'"
      ]
     },
     "execution_count": 474,
     "metadata": {},
     "output_type": "execute_result"
    }
   ],
   "source": [
    "def team_names():\n",
    "    for location, team_stats in game_dict().items():\n",
    "        return team_stats['team_name']\n",
    "team_names()"
   ]
  },
  {
   "cell_type": "code",
   "execution_count": 482,
   "metadata": {},
   "outputs": [
    {
     "data": {
      "text/plain": [
       "['Brooklyn Nets', 'Charlotte Hornets']"
      ]
     },
     "execution_count": 482,
     "metadata": {},
     "output_type": "execute_result"
    }
   ],
   "source": [
    "def team_names():\n",
    "    team_names_list=[]\n",
    "    for location, team_stats in game_dict().items():\n",
    "        team_names_list.append(team_stats['team_name'])\n",
    "    return team_names_list\n",
    "    \n",
    "team_names()"
   ]
  },
  {
   "cell_type": "code",
   "execution_count": 466,
   "metadata": {},
   "outputs": [
    {
     "data": {
      "text/plain": [
       "['Brooklyn Nets', 'Charlotte Hornets']"
      ]
     },
     "execution_count": 466,
     "metadata": {},
     "output_type": "execute_result"
    }
   ],
   "source": [
    "def team_name1():\n",
    "    return [team_stats['team_name'] for location, team_stats in game_dict().items()]\n",
    "team_name1()"
   ]
  },
  {
   "cell_type": "code",
   "execution_count": 433,
   "metadata": {},
   "outputs": [
    {
     "data": {
      "text/plain": [
       "[0, 30, 11, 1, 31]"
      ]
     },
     "execution_count": 433,
     "metadata": {},
     "output_type": "execute_result"
    }
   ],
   "source": [
    "def player_numbers(team_name):\n",
    "    for location, team_stats in game_dict().items(): \n",
    "        if team_name == team_stats['team_name']:\n",
    "            return [team_stats['players'][player]['number'] for player in team_stats['players'].keys()]\n",
    "\n",
    "player_numbers('Brooklyn Nets')"
   ]
  },
  {
   "cell_type": "code",
   "execution_count": null,
   "metadata": {},
   "outputs": [],
   "source": []
  }
 ],
 "metadata": {
  "kernelspec": {
   "display_name": "Python 3",
   "language": "python",
   "name": "python3"
  },
  "language_info": {
   "codemirror_mode": {
    "name": "ipython",
    "version": 3
   },
   "file_extension": ".py",
   "mimetype": "text/x-python",
   "name": "python",
   "nbconvert_exporter": "python",
   "pygments_lexer": "ipython3",
   "version": "3.6.5"
  }
 },
 "nbformat": 4,
 "nbformat_minor": 2
}
